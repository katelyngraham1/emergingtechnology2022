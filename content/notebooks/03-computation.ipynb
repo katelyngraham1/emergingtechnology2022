{
 "cells": [
  {
   "cell_type": "markdown",
   "id": "867cb8c2",
   "metadata": {},
   "source": [
    "# Computation\n",
    "<hr style=\"border-top: 2px solid rgb(0, 0, 0);\" />"
   ]
  },
  {
   "cell_type": "markdown",
   "id": "4d6a8ccc",
   "metadata": {},
   "source": [
    "A computation is an operation that begins with some initial conditions and gives an output which follows from a definite set of rules. The most common example are computations performed by computers, in which the fixed set of rules may be the functions provided by a particular programming language.\n",
    "<br><br>\n",
    "The field of computer science studies the nature of computation and its uses. A computer is something that can do computations automatically, the theory of automation is called automata. [[0]](computation)\n",
    "<br><br>"
   ]
  },
  {
   "cell_type": "markdown",
   "id": "9e3853ae",
   "metadata": {},
   "source": [
    "## Papers and Articles\n",
    "<hr style=\"border-top: 1px solid rgb(0, 0, 0);\" />"
   ]
  },
  {
   "cell_type": "markdown",
   "id": "33312e13",
   "metadata": {},
   "source": [
    "<a href=\"https://www.nature.com/articles/s41586-022-05172-4\" style=\"color: #ff791e\">Discovering faster matrix multiplication algorithms with reinforcement learning;</a> *Alhussein Fawzi, Matej Balog, Aja Huang, Thomas Hubert, Bernardino Romera-Paredes, Mohammadamin Barekatain, Alexander Novikov, Francisco J. R. Ruiz, Julian Schrittwieser, Grzegorz Swirszcz, David Silver, Demis Hassabis & Pushmeet Kohli;* Nature\n",
    "\n",
    "<a href=\"https://en.wikipedia.org/wiki/Quantum_finite_automaton\" style=\"color:#ff791e\">Quantum finite automaton; </a> Wikipedia\n",
    "\n",
    "<a href=\"https://arxiv.org/abs/2010.05846\" style=\"color: #ff791e\">A Refined Laser Method and Faster Matrix Multiplication;</a> *Josh Alman, Virginia Vassilevska Williams;* arXiv\n",
    "\n",
    "<a href=\"https://arxiv.org/abs/2210.04045\" style=\"color: #ff791e\">The FBHHRBNRSSSHK-Algorithm for Multiplication in $\\mathbb{Z}_2^{5 \\times 5}$ is still not the end of the story;</a> *Manuel Kauers, Jakob Moosbauer;* arXiv \n",
    "\n",
    "<a href=\"https://www.quantamagazine.org/mathematicians-inch-closer-to-matrix-multiplication-goal-20210323/\" style=\"color: #ff791e\">Matrix Multiplication Inches Closer to Mythic Goal; </a> *Kevin Hartnett;* Quanta magazine\n",
    "\n",
    "<a href=\"https://en.wikipedia.org/wiki/Quantum_computing\" style=\"color:#ff791e\">Quantum computing; </a> Wikipedia\n",
    "<br>"
   ]
  },
  {
   "cell_type": "markdown",
   "id": "9e038326",
   "metadata": {},
   "source": [
    "## Growth Rates (Polynomial vs Exponential)\n",
    "<hr style=\"border-top: 1px solid rgb(0, 0, 0);\" />"
   ]
  },
  {
   "cell_type": "code",
   "execution_count": 2,
   "id": "9646acba",
   "metadata": {},
   "outputs": [
    {
     "data": {
      "image/png": "[encoded data removed]",
      "text/plain": [
       "<Figure size 864x432 with 1 Axes>"
      ]
     },
     "metadata": {
      "needs_background": "light"
     },
     "output_type": "display_data"
    }
   ],
   "source": [
    "# Numbers.\n",
    "import numpy as np\n",
    "\n",
    "# Plotting.\n",
    "import matplotlib.pyplot as plt\n",
    "\n",
    "# Create a figure.\n",
    "fig, ax = plt.subplots(figsize=(12, 6))\n",
    "\n",
    "# x values.\n",
    "x = np.linspace(0.0, 10.0, 1000)\n",
    "\n",
    "# Plot polynomial.\n",
    "ax.plot(x, x**2, label=\"$x^2$\")\n",
    "\n",
    "# Plot exponential.\n",
    "ax.plot(x, 2**x, label=\"$2^x$\")\n",
    "\n",
    "# Legend.\n",
    "ax.legend()\n",
    "\n",
    "# Show.\n",
    "plt.show();"
   ]
  },
  {
   "cell_type": "markdown",
   "id": "c9db2782",
   "metadata": {},
   "source": [
    "### Exercise 1\n",
    "<hr style=\"border-top: 1px solid rgb(0, 0, 0);\" />"
   ]
  },
  {
   "cell_type": "markdown",
   "id": "6482677d",
   "metadata": {},
   "source": [
    "Describe and plot five examples of pairs of functions $f$ and $g$ such that $f$ is $O(g)$.\n",
    "<hr style=\"border-top: 1px solid rgb(0, 0, 0);\" />"
   ]
  },
  {
   "cell_type": "markdown",
   "id": "635aadd2",
   "metadata": {},
   "source": [
    "## References\n",
    "<hr style=\"border-top: 1px solid rgb(0, 80, 90);\" />"
   ]
  },
  {
   "cell_type": "markdown",
   "id": "9235376c",
   "metadata": {},
   "source": [
    "[0] <a id=\"computation\"></a>https://mathworld.wolfram.com/Computation.html"
   ]
  }
 ],
 "metadata": {
  "kernelspec": {
   "display_name": "Python 3 (ipykernel)",
   "language": "python",
   "name": "python3"
  },
  "language_info": {
   "codemirror_mode": {
    "name": "ipython",
    "version": 3
   },
   "file_extension": ".py",
   "mimetype": "text/x-python",
   "name": "python",
   "nbconvert_exporter": "python",
   "pygments_lexer": "ipython3",
   "version": "3.9.7"
  }
 },
 "nbformat": 4,
 "nbformat_minor": 5
}
