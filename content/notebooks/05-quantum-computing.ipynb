{
 "cells": [
  {
   "cell_type": "markdown",
   "id": "e8373d0a",
   "metadata": {},
   "source": [
    "# Quantum Computing \n",
    "<hr style=\"border-top: 3px solid rgb(0, 0, 0);\" />"
   ]
  },
  {
   "cell_type": "markdown",
   "id": "44cde468",
   "metadata": {},
   "source": [
    "Quantum computing is a field of computer science that uses the principles of quantum mechanics to perform calculations that are beyond the capabilities of classical computers. While classical computers use bits to store and process information, quantum computers use quantum bits, or qubits. Qubits can exist in multiple states at the same time, which allows quantum computers to perform certain types of calculations much faster than classical computers.\n",
    "\n",
    "Quantum computers have the potential to solve problems that are intractable on classical computers, such as factoring large numbers and searching large databases. They are also expected to have applications in areas such as materials science, drug discovery, and weather forecasting.\n",
    "\n",
    "However, quantum computers are still in the early stages of development and there are many technical challenges that must be overcome in order to realize their full potential. Some of the key challenges include building stable quantum hardware, developing robust quantum algorithms, and improving the scalability of quantum systems.\n",
    "\n",
    "Overall, quantum computing is a rapidly evolving field with the potential to revolutionize the way we think about and solve complex problems. While it is still in the early stages of development, it has the potential to have a significant impact on a wide range of fields in the future."
   ]
  },
  {
   "cell_type": "markdown",
   "id": "7265b6ea",
   "metadata": {},
   "source": [
    "#### Key Differnces between Classical Computing and Quantum Computing\n",
    "<hr style=\"border-top: 1px solid rgb(0, 0, 0);\" />"
   ]
  },
  {
   "cell_type": "markdown",
   "id": "f5fa200b",
   "metadata": {},
   "source": [
    "- <b>Classical computers use classical bits, while quantum computers use quantum bits:</b> Classical bits can represent either a 1 or a 0, while quantum bits, or qubits, can represent both a 1 and a 0 at the same time due to the principles of quantum superposition.\n",
    "- <b>Classical computers follow the rules of classical physics, while quantum computers follow the rules of quantum mechanics:</b> The behavior of classical bits is governed by the laws of classical physics, while the behavior of qubits is governed by the laws of quantum mechanics.\n",
    "- <b>Classical computers can struggle with certain types of problems, while quantum computers have the potential to solve these problems more quickly:</b> Quantum computers have the potential to solve certain types of problems that are currently intractable for classical computers, such as factoring large numbers and searching large databases.\n",
    "- <b>Classical computers are more mature and widely available, while quantum computers are still in the early stages of development:</b> Classical computers have been around for decades and are widely available, while quantum computers are still in the early stages of development and are not yet as powerful as classical computers for most tasks.\n",
    "- <b>Classical computers use electricity to perform calculations, while quantum computers use quantum phenomena:</b> Classical computers use electricity to perform calculations, while quantum computers use quantum phenomena, such as superposition and entanglement, to perform calculations."
   ]
  },
  {
   "cell_type": "markdown",
   "id": "0f0390ef",
   "metadata": {},
   "source": [
    "## Qiskit\n",
    "<hr style=\"border-top: 2px solid rgb(0, 0, 0);\" />"
   ]
  },
  {
   "cell_type": "markdown",
   "id": "daded235",
   "metadata": {},
   "source": [
    "Qiskit is an open-source software development kit (SDK) for working with quantum computers and quantum programming. It was developed by IBM and is widely used by researchers, developers, and businesses to build and run quantum algorithms, create and test quantum circuits, and perform other tasks related to quantum computing.\n",
    "\n",
    "Qiskit is written in Python and consists of a set of tools and libraries that can be used to build and execute quantum programs on various quantum computing platforms, including IBM Q quantum computers and simulators. It includes tools for working with quantum circuits, algorithms, and other components of quantum programs, as well as tools for running experiments and analyzing results.\n",
    "\n",
    "Qiskit is an important resource for the quantum computing community and is used by many organizations around the world to develop and deploy quantum applications. It is constantly being improved and expanded, with new features and capabilities being added on a regular basis."
   ]
  },
  {
   "cell_type": "markdown",
   "id": "f288a5fc",
   "metadata": {},
   "source": [
    "## Flipping a Coin\n",
    "<hr style=\"border-top: 2px solid rgb(0, 0, 0);\" />"
   ]
  },
  {
   "cell_type": "code",
   "execution_count": 1,
   "id": "f1c40998",
   "metadata": {},
   "outputs": [],
   "source": [
    "# Generating random numbers.\n",
    "import numpy as np\n",
    "\n",
    "# Plotting.\n",
    "import seaborn as sns\n",
    "\n",
    "# Random numbers and choices.\n",
    "import random\n",
    "\n",
    "# Combinations and permutation.\n",
    "import itertools"
   ]
  },
  {
   "cell_type": "code",
   "execution_count": 2,
   "id": "e2d061f0",
   "metadata": {},
   "outputs": [
    {
     "data": {
      "text/plain": [
       "0"
      ]
     },
     "execution_count": 2,
     "metadata": {},
     "output_type": "execute_result"
    }
   ],
   "source": [
    "# Flip one coin.\n",
    "np.random.binomial(1, 0.5)"
   ]
  },
  {
   "cell_type": "code",
   "execution_count": 3,
   "id": "4cea2bed",
   "metadata": {},
   "outputs": [
    {
     "data": {
      "text/plain": [
       "array([1, 0, 0, 0, 0, 1, 1, 1, 0, 0, 0, 1, 1, 1, 1, 0, 0, 0, 0, 1, 1, 0,\n",
       "       1, 0, 1, 0, 1, 0, 1, 0, 1, 0, 1, 0, 0, 0, 0, 1, 1, 0, 0, 0, 1, 1,\n",
       "       1, 1, 1, 1, 1, 0, 0, 0, 1, 0, 0, 1, 0, 0, 1, 1, 1, 1, 1, 1, 0, 1,\n",
       "       0, 1, 0, 1, 0, 1, 1, 1, 1, 0, 0, 0, 0, 0, 0, 0, 1, 1, 0, 0, 1, 1,\n",
       "       1, 0, 1, 0, 0, 1, 0, 1, 0, 0, 1, 1])"
      ]
     },
     "execution_count": 3,
     "metadata": {},
     "output_type": "execute_result"
    }
   ],
   "source": [
    "# Flip one hundred coins.\n",
    "np.random.binomial(1, 0.5, 100)"
   ]
  },
  {
   "cell_type": "code",
   "execution_count": 4,
   "id": "07d13099",
   "metadata": {},
   "outputs": [
    {
     "data": {
      "text/plain": [
       "54"
      ]
     },
     "execution_count": 4,
     "metadata": {},
     "output_type": "execute_result"
    }
   ],
   "source": [
    "# Flip a coin one hundred times, counting total heads.\n",
    "np.random.binomial(100, 0.5)"
   ]
  },
  {
   "cell_type": "code",
   "execution_count": 5,
   "id": "634ea7c6",
   "metadata": {},
   "outputs": [
    {
     "data": {
      "image/png": "[encoded data removed]",
      "text/plain": [
       "<Figure size 432x288 with 1 Axes>"
      ]
     },
     "metadata": {
      "needs_background": "light"
     },
     "output_type": "display_data"
    }
   ],
   "source": [
    "# Should be roughly 50/50.\n",
    "sns.countplot(x=np.random.binomial(1, 0.5, 1000000));"
   ]
  },
  {
   "cell_type": "code",
   "execution_count": 6,
   "id": "1d7dcc48",
   "metadata": {},
   "outputs": [
    {
     "data": {
      "image/png": "[encoded data removed]",
      "text/plain": [
       "<Figure size 432x288 with 1 Axes>"
      ]
     },
     "metadata": {
      "needs_background": "light"
     },
     "output_type": "display_data"
    }
   ],
   "source": [
    "# Outcomes of flipping two coins.\n",
    "sns.countplot(x=np.random.binomial(2, 0.5, 1000000));"
   ]
  },
  {
   "cell_type": "code",
   "execution_count": 7,
   "id": "aa0ec166",
   "metadata": {},
   "outputs": [
    {
     "data": {
      "image/png": "[encoded data removed]",
      "text/plain": [
       "<Figure size 432x288 with 1 Axes>"
      ]
     },
     "metadata": {
      "needs_background": "light"
     },
     "output_type": "display_data"
    }
   ],
   "source": [
    "# Outcomes of flipping three coins.\n",
    "sns.countplot(x=np.random.binomial(3, 0.5, 1000000));"
   ]
  },
  {
   "cell_type": "code",
   "execution_count": 8,
   "id": "c058e95f",
   "metadata": {},
   "outputs": [
    {
     "data": {
      "image/png": "[encoded data removed]",
      "text/plain": [
       "<Figure size 432x288 with 1 Axes>"
      ]
     },
     "metadata": {
      "needs_background": "light"
     },
     "output_type": "display_data"
    }
   ],
   "source": [
    "# Outcomes of flipping fifty coins.\n",
    "sns.countplot(x=np.random.binomial(50, 0.5, 1000000));"
   ]
  },
  {
   "cell_type": "markdown",
   "id": "61801e2c",
   "metadata": {},
   "source": [
    "## Quantum Gate\n",
    "<hr style=\"border-top: 2px solid rgb(0, 0, 0);\" />"
   ]
  },
  {
   "cell_type": "markdown",
   "id": "0cde7e74",
   "metadata": {},
   "source": [
    "In quantum computing, quantum gates are used to perform operations on quantum bits, or qubits. They are the quantum equivalent of classical logic gates, which are used to perform operations on classical bits in classical computers. Quantum gates can be used to manipulate the state of a qubit and to perform operations such as quantum logic operations, quantum measurements, and quantum state preparation.\n",
    "\n",
    "There are many different types of quantum gates, including single-qubit gates, which act on a single qubit, and multi-qubit gates, which act on multiple qubits at the same time. Single-qubit gates can be used to perform operations such as rotations of the qubit state, while multi-qubit gates can be used to perform operations such as entangling two qubits.\n",
    "\n",
    "Quantum gates are an important part of quantum algorithms and are used to perform the operations required to solve a particular problem. They are also an important part of quantum circuits, which are used to implement quantum algorithms in a quantum computer."
   ]
  },
  {
   "cell_type": "code",
   "execution_count": 9,
   "id": "b22ca700",
   "metadata": {},
   "outputs": [],
   "source": [
    "# Quantum Circuits and Simulators.\n",
    "import qiskit\n",
    "\n",
    "from qiskit import execute\n",
    "\n",
    "# Qiskit Visualisation.\n",
    "import qiskit.visualization as viz"
   ]
  },
  {
   "cell_type": "markdown",
   "id": "cbb0f03a",
   "metadata": {},
   "source": [
    "### H Gate\n",
    "<hr style=\"border-top: 1px solid rgb(0, 0, 0);\" />"
   ]
  },
  {
   "cell_type": "markdown",
   "id": "30081cb7",
   "metadata": {},
   "source": [
    "$ H = \\frac{1}{\\sqrt{2}} \\begin{bmatrix} 1 & 1 \\\\ 1 & -1 \\end{bmatrix} \\qquad | 0 \\rangle = \\begin{bmatrix} 1 \\\\ 0 \\end{bmatrix}$\n",
    "\n",
    "$ H | 0 \\rangle = \\frac{1}{\\sqrt{2}} \\begin{bmatrix} 1 & 1 \\\\ 1 & -1 \\end{bmatrix} \\begin{bmatrix} 1 \\\\ 0 \\end{bmatrix} = \\frac{1}{\\sqrt{2}} \\begin{bmatrix} 1 \\\\ 1 \\end{bmatrix}$\n",
    "\n",
    "$P(0) = |\\frac{1}{\\sqrt{2}}|^2 = \\frac{1}{2}$\n",
    "\n",
    "$P(1) = |\\frac{1}{\\sqrt{2}}|^2 = \\frac{1}{2}$"
   ]
  },
  {
   "cell_type": "code",
   "execution_count": 10,
   "id": "75fabee8",
   "metadata": {},
   "outputs": [
    {
     "data": {
      "image/png": "[encoded data removed]",
      "text/plain": [
       "<Figure size 206.852x204.68 with 1 Axes>"
      ]
     },
     "execution_count": 10,
     "metadata": {},
     "output_type": "execute_result"
    }
   ],
   "source": [
    "# Create a circuit.\n",
    "circuit = qiskit.QuantumCircuit(2, 2)\n",
    "\n",
    "# Add a gate.\n",
    "circuit.h(0)\n",
    "\n",
    "# Measure.\n",
    "circuit.measure(0, 0)\n",
    "\n",
    "# Draw the circuit\n",
    "circuit.draw(output='mpl')"
   ]
  },
  {
   "cell_type": "code",
   "execution_count": 11,
   "id": "9dc1c472",
   "metadata": {},
   "outputs": [
    {
     "data": {
      "image/png": "[encoded data removed]",
      "text/plain": [
       "<Figure size 216x216 with 1 Axes>"
      ]
     },
     "execution_count": 11,
     "metadata": {},
     "output_type": "execute_result"
    }
   ],
   "source": [
    "# Get a simulator.\n",
    "sim = qiskit.Aer.get_backend('aer_simulator')\n",
    "\n",
    "# Simulte the circuit.\n",
    "result = sim.run(circuit).result().get_counts()\n",
    "\n",
    "# Histogram.\n",
    "viz.plot_histogram(result, figsize=(3, 3))"
   ]
  },
  {
   "cell_type": "markdown",
   "id": "c193816a",
   "metadata": {},
   "source": [
    "### X Gate\n",
    "<hr style=\"border-top: 1px solid rgb(0, 0, 0);\" />"
   ]
  },
  {
   "cell_type": "markdown",
   "id": "26e9b360",
   "metadata": {},
   "source": [
    "$ X = \\begin{bmatrix} 0 & 1 \\\\ 1 & 0 \\end{bmatrix} \\qquad | 0 \\rangle = \\begin{bmatrix} 1 \\\\ 0 \\end{bmatrix}$\n",
    "\n",
    "$ X | 0 \\rangle = \\begin{bmatrix} 0 & 1 \\\\ 1 & 0 \\end{bmatrix} \\begin{bmatrix} 1 \\\\ 0 \\end{bmatrix} = \\begin{bmatrix} 0 \\\\ 1 \\end{bmatrix}$\n",
    "\n",
    "$P(0) = |0|^2 = 0$\n",
    "\n",
    "$P(1) = |1|^2 = 1$"
   ]
  },
  {
   "cell_type": "code",
   "execution_count": 12,
   "id": "c7562d79",
   "metadata": {},
   "outputs": [
    {
     "data": {
      "image/png": "[encoded data removed]",
      "text/plain": [
       "<Figure size 206.852x204.68 with 1 Axes>"
      ]
     },
     "execution_count": 12,
     "metadata": {},
     "output_type": "execute_result"
    }
   ],
   "source": [
    "# Create a circuit.\n",
    "circuit = qiskit.QuantumCircuit(2, 2)\n",
    "\n",
    "# Add a gate.\n",
    "circuit.x(0)\n",
    "\n",
    "# Measure.\n",
    "circuit.measure(0, 0)\n",
    "\n",
    "# Draw the circuit\n",
    "circuit.draw(output='mpl')"
   ]
  },
  {
   "cell_type": "code",
   "execution_count": 13,
   "id": "6e03ca9b",
   "metadata": {},
   "outputs": [
    {
     "data": {
      "image/png": "[encoded data removed]",
      "text/plain": [
       "<Figure size 216x216 with 1 Axes>"
      ]
     },
     "execution_count": 13,
     "metadata": {},
     "output_type": "execute_result"
    }
   ],
   "source": [
    "# Get a simulator.\n",
    "sim = qiskit.Aer.get_backend('aer_simulator')\n",
    "\n",
    "# Simulte the circuit.\n",
    "result = sim.run(circuit).result().get_counts()\n",
    "\n",
    "# Histogram.\n",
    "viz.plot_histogram(result, figsize=(3, 3))"
   ]
  },
  {
   "cell_type": "markdown",
   "id": "a0d26c3c",
   "metadata": {},
   "source": [
    "### Y Gate\n",
    "<hr style=\"border-top: 1px solid rgb(0, 0, 0);\" />"
   ]
  },
  {
   "cell_type": "markdown",
   "id": "cd26b367",
   "metadata": {},
   "source": [
    "$ Y = \\begin{bmatrix} 0 & -i \\\\ i & 0 \\end{bmatrix} \\qquad | 0 \\rangle = \\begin{bmatrix} 1 \\\\ 0 \\end{bmatrix}$\n",
    "\n",
    "$ Y | 0 \\rangle = \\begin{bmatrix} 0 & -i \\\\ i & 0 \\end{bmatrix} \\begin{bmatrix} 1 \\\\ 0 \\end{bmatrix} = \\begin{bmatrix} 0 \\\\ i \\end{bmatrix}$\n",
    "\n",
    "$P(0) = |0|^2 = 0$\n",
    "\n",
    "$P(1) = |0+1i|^2 = 1$"
   ]
  },
  {
   "cell_type": "code",
   "execution_count": 14,
   "id": "e308cccb",
   "metadata": {},
   "outputs": [
    {
     "data": {
      "image/png": "[encoded data removed]",
      "text/plain": [
       "<Figure size 206.852x204.68 with 1 Axes>"
      ]
     },
     "execution_count": 14,
     "metadata": {},
     "output_type": "execute_result"
    }
   ],
   "source": [
    "# Create a circuit.\n",
    "circuit = qiskit.QuantumCircuit(2, 2)\n",
    "\n",
    "# Add a gate.\n",
    "circuit.y(0)\n",
    "\n",
    "# Measure.\n",
    "circuit.measure(0, 0)\n",
    "\n",
    "# Draw the circuit\n",
    "circuit.draw(output='mpl')"
   ]
  },
  {
   "cell_type": "code",
   "execution_count": 15,
   "id": "3c221d0a",
   "metadata": {},
   "outputs": [
    {
     "data": {
      "image/png": "[encoded data removed]",
      "text/plain": [
       "<Figure size 216x216 with 1 Axes>"
      ]
     },
     "execution_count": 15,
     "metadata": {},
     "output_type": "execute_result"
    }
   ],
   "source": [
    "# Get a simulator.\n",
    "sim = qiskit.Aer.get_backend('aer_simulator')\n",
    "\n",
    "# Simulte the circuit.\n",
    "result = sim.run(circuit).result().get_counts()\n",
    "\n",
    "# Histogram.\n",
    "viz.plot_histogram(result, figsize=(3, 3))"
   ]
  },
  {
   "cell_type": "markdown",
   "id": "2b5b6901",
   "metadata": {},
   "source": [
    "### Z Gate\n",
    "<hr style=\"border-top: 1px solid rgb(0, 0, 0);\" />"
   ]
  },
  {
   "cell_type": "markdown",
   "id": "701bb744",
   "metadata": {},
   "source": [
    "$ Z = \\begin{bmatrix} 1 & 0 \\\\ 0 & -1 \\end{bmatrix} \\qquad | 0 \\rangle = \\begin{bmatrix} 1 \\\\ 0 \\end{bmatrix}$\n",
    "\n",
    "$ Z | 0 \\rangle = \\begin{bmatrix} 1 & 0 \\\\ 0 & -1 \\end{bmatrix} \\begin{bmatrix} 1 \\\\ 0 \\end{bmatrix} = \\begin{bmatrix} 1 \\\\ 0 \\end{bmatrix}$\n",
    "\n",
    "$P(0) = |1|^2 = 1$\n",
    "\n",
    "$P(1) = |0|^2 = 0$"
   ]
  },
  {
   "cell_type": "code",
   "execution_count": 16,
   "id": "3ccb7d53",
   "metadata": {},
   "outputs": [
    {
     "data": {
      "image/png": "[encoded data removed]",
      "text/plain": [
       "<Figure size 206.852x204.68 with 1 Axes>"
      ]
     },
     "execution_count": 16,
     "metadata": {},
     "output_type": "execute_result"
    }
   ],
   "source": [
    "# Create a circuit.\n",
    "circuit = qiskit.QuantumCircuit(2, 2)\n",
    "\n",
    "# Add a gate.\n",
    "circuit.z(0)\n",
    "\n",
    "# Measure.\n",
    "circuit.measure(0, 0)\n",
    "\n",
    "# Draw the circuit\n",
    "circuit.draw(output='mpl')"
   ]
  },
  {
   "cell_type": "code",
   "execution_count": 17,
   "id": "1c46b8b2",
   "metadata": {},
   "outputs": [
    {
     "data": {
      "image/png": "[encoded data removed]",
      "text/plain": [
       "<Figure size 216x216 with 1 Axes>"
      ]
     },
     "execution_count": 17,
     "metadata": {},
     "output_type": "execute_result"
    }
   ],
   "source": [
    "# Get a simulator.\n",
    "sim = qiskit.Aer.get_backend('aer_simulator')\n",
    "\n",
    "# Simulte the circuit.\n",
    "result = sim.run(circuit).result().get_counts()\n",
    "\n",
    "# Histogram.\n",
    "viz.plot_histogram(result, figsize=(3, 3))"
   ]
  },
  {
   "cell_type": "markdown",
   "id": "92a35aba",
   "metadata": {},
   "source": [
    "### T Gate\n",
    "<hr style=\"border-top: 1px solid rgb(0, 0, 0);\" />"
   ]
  },
  {
   "cell_type": "markdown",
   "id": "d279f321",
   "metadata": {},
   "source": [
    "$ T = \\begin{bmatrix} 1 & 0 \\\\ 0 & e^{i \\pi / 4} \\end{bmatrix} \\qquad | 0 \\rangle = \\begin{bmatrix} 1 \\\\ 0 \\end{bmatrix}$\n",
    "\n",
    "$ T | 0 \\rangle = \\begin{bmatrix}1 & 0 \\\\ 0 & e^{i \\pi / 4} \\end{bmatrix} \\begin{bmatrix} 1 \\\\ 0 \\end{bmatrix} = \\begin{bmatrix} 1 \\\\ 0 \\end{bmatrix}$\n",
    "\n",
    "$P(0) = |1|^2 = 1$\n",
    "\n",
    "$P(1) = |0|^2 = 0$"
   ]
  },
  {
   "cell_type": "code",
   "execution_count": 18,
   "id": "d2f6ead0",
   "metadata": {},
   "outputs": [
    {
     "data": {
      "image/png": "[encoded data removed]",
      "text/plain": [
       "<Figure size 206.852x204.68 with 1 Axes>"
      ]
     },
     "execution_count": 18,
     "metadata": {},
     "output_type": "execute_result"
    }
   ],
   "source": [
    "# Create a circuit.\n",
    "circuit = qiskit.QuantumCircuit(2, 2)\n",
    "\n",
    "# Add a gate.\n",
    "circuit.t(0)\n",
    "\n",
    "# Measure.\n",
    "circuit.measure(0, 0)\n",
    "\n",
    "# Draw the circuit\n",
    "circuit.draw(output='mpl')"
   ]
  },
  {
   "cell_type": "code",
   "execution_count": 19,
   "id": "ef5cb53b",
   "metadata": {},
   "outputs": [
    {
     "data": {
      "image/png": "[encoded data removed]",
      "text/plain": [
       "<Figure size 216x216 with 1 Axes>"
      ]
     },
     "execution_count": 19,
     "metadata": {},
     "output_type": "execute_result"
    }
   ],
   "source": [
    "# Get a simulator.\n",
    "sim = qiskit.Aer.get_backend('aer_simulator')\n",
    "\n",
    "# Simulte the circuit.\n",
    "result = sim.run(circuit).result().get_counts()\n",
    "\n",
    "# Histogram.\n",
    "viz.plot_histogram(result, figsize=(3, 3))"
   ]
  },
  {
   "cell_type": "markdown",
   "id": "9b7dab8d",
   "metadata": {},
   "source": [
    "### CX Gate\n",
    "<hr style=\"border-top: 1px solid rgb(0, 0, 0);\" />"
   ]
  },
  {
   "cell_type": "code",
   "execution_count": 20,
   "id": "87590846",
   "metadata": {},
   "outputs": [
    {
     "data": {
      "image/png": "[encoded data removed]",
      "text/plain": [
       "<Figure size 267.052x204.68 with 1 Axes>"
      ]
     },
     "execution_count": 20,
     "metadata": {},
     "output_type": "execute_result"
    }
   ],
   "source": [
    "# Create a circuit.\n",
    "circuit = qiskit.QuantumCircuit(2, 2)\n",
    "\n",
    "# Add a gate.\n",
    "circuit.cnot(0, 1)\n",
    "\n",
    "# Measure.\n",
    "circuit.measure((0, 1), (0, 1))\n",
    "\n",
    "# Draw the circuit\n",
    "circuit.draw(output='mpl')"
   ]
  },
  {
   "cell_type": "code",
   "execution_count": 21,
   "id": "9143f55f",
   "metadata": {},
   "outputs": [
    {
     "data": {
      "image/png": "[encoded data removed]",
      "text/plain": [
       "<Figure size 216x216 with 1 Axes>"
      ]
     },
     "execution_count": 21,
     "metadata": {},
     "output_type": "execute_result"
    }
   ],
   "source": [
    "# Get a simulator.\n",
    "sim = qiskit.Aer.get_backend('aer_simulator')\n",
    "\n",
    "# Simulte the circuit.\n",
    "result = sim.run(circuit).result().get_counts()\n",
    "\n",
    "# Histogram.\n",
    "viz.plot_histogram(result, figsize=(3, 3))"
   ]
  },
  {
   "cell_type": "markdown",
   "id": "2f8afffc",
   "metadata": {},
   "source": [
    "Setting control bit to something other than $|0\\rangle$."
   ]
  },
  {
   "cell_type": "code",
   "execution_count": 22,
   "id": "4ded57a4",
   "metadata": {},
   "outputs": [
    {
     "data": {
      "image/png": "[encoded data removed]",
      "text/plain": [
       "<Figure size 387.452x204.68 with 1 Axes>"
      ]
     },
     "execution_count": 22,
     "metadata": {},
     "output_type": "execute_result"
    }
   ],
   "source": [
    "# Create a circuit.\n",
    "circuit = qiskit.QuantumCircuit(2, 2)\n",
    "\n",
    "# Set the first qubit to |1>.\n",
    "circuit.x(0)\n",
    "\n",
    "# Add a barrier.\n",
    "circuit.barrier()\n",
    "\n",
    "# Add a gate.\n",
    "circuit.cnot(0, 1)\n",
    "\n",
    "# Measure.\n",
    "circuit.measure((0, 1), (0, 1))\n",
    "\n",
    "# Draw the circuit\n",
    "circuit.draw(output='mpl')"
   ]
  },
  {
   "cell_type": "code",
   "execution_count": 23,
   "id": "8e4a3e43",
   "metadata": {},
   "outputs": [
    {
     "data": {
      "image/png": "[encoded data removed]",
      "text/plain": [
       "<Figure size 216x216 with 1 Axes>"
      ]
     },
     "execution_count": 23,
     "metadata": {},
     "output_type": "execute_result"
    }
   ],
   "source": [
    "# Get a simulator.\n",
    "sim = qiskit.Aer.get_backend('aer_simulator')\n",
    "\n",
    "# Simulte the circuit.\n",
    "result = sim.run(circuit).result().get_counts()\n",
    "\n",
    "# Histogram.\n",
    "viz.plot_histogram(result, figsize=(3, 3))"
   ]
  },
  {
   "cell_type": "markdown",
   "id": "93fc3303",
   "metadata": {},
   "source": [
    "Using a H gate."
   ]
  },
  {
   "cell_type": "code",
   "execution_count": 24,
   "id": "2fcbcff1",
   "metadata": {},
   "outputs": [
    {
     "data": {
      "image/png": "[encoded data removed]",
      "text/plain": [
       "<Figure size 327.252x204.68 with 1 Axes>"
      ]
     },
     "execution_count": 24,
     "metadata": {},
     "output_type": "execute_result"
    }
   ],
   "source": [
    "# Create a circuit.\n",
    "circuit = qiskit.QuantumCircuit(2, 2)\n",
    "\n",
    "# Apply H gate to first qubit.\n",
    "circuit.h(0)\n",
    "\n",
    "# Add a gate.\n",
    "circuit.cnot(0, 1)\n",
    "\n",
    "# Measure.\n",
    "circuit.measure((0, 1), (0, 1))\n",
    "\n",
    "# Draw the circuit\n",
    "circuit.draw(output='mpl')"
   ]
  },
  {
   "cell_type": "code",
   "execution_count": 25,
   "id": "f872d4ff",
   "metadata": {},
   "outputs": [
    {
     "data": {
      "image/png": "[encoded data removed]",
      "text/plain": [
       "<Figure size 216x216 with 1 Axes>"
      ]
     },
     "execution_count": 25,
     "metadata": {},
     "output_type": "execute_result"
    }
   ],
   "source": [
    "#Get a simulator.\n",
    "sim = qiskit.Aer.get_backend('aer_simulator')\n",
    "\n",
    "# Simulte the circuit.\n",
    "result = sim.run(circuit).result().get_counts()\n",
    "\n",
    "# Histogram.\n",
    "viz.plot_histogram(result, figsize=(3, 3))"
   ]
  },
  {
   "cell_type": "markdown",
   "id": "64bcf9f6",
   "metadata": {},
   "source": [
    "Only measure one qubit."
   ]
  },
  {
   "cell_type": "code",
   "execution_count": 26,
   "id": "2745485b",
   "metadata": {},
   "outputs": [
    {
     "data": {
      "image/png": "[encoded data removed]",
      "text/plain": [
       "<Figure size 267.052x204.68 with 1 Axes>"
      ]
     },
     "execution_count": 26,
     "metadata": {},
     "output_type": "execute_result"
    }
   ],
   "source": [
    "# Create a circuit.\n",
    "circuit = qiskit.QuantumCircuit(2, 1)\n",
    "\n",
    "# Apply H gate to first qubit.\n",
    "circuit.h(0)\n",
    "\n",
    "# Add a gate.\n",
    "circuit.cnot(0, 1)\n",
    "\n",
    "# Measure.\n",
    "circuit.measure(0, 0)\n",
    "\n",
    "# Draw the circuit\n",
    "circuit.draw(output='mpl')"
   ]
  },
  {
   "cell_type": "code",
   "execution_count": 27,
   "id": "a0c1d536",
   "metadata": {},
   "outputs": [
    {
     "data": {
      "image/png": "[encoded data removed]",
      "text/plain": [
       "<Figure size 216x216 with 1 Axes>"
      ]
     },
     "execution_count": 27,
     "metadata": {},
     "output_type": "execute_result"
    }
   ],
   "source": [
    "# Get a simulator.\n",
    "sim = qiskit.Aer.get_backend('aer_simulator')\n",
    "\n",
    "# Simulte the circuit.\n",
    "result = sim.run(circuit).result().get_counts()\n",
    "\n",
    "# Histogram.\n",
    "viz.plot_histogram(result, figsize=(3, 3))"
   ]
  },
  {
   "cell_type": "markdown",
   "id": "d1aa19b4",
   "metadata": {},
   "source": [
    "## Deutsch Algorithm\n",
    "<hr style=\"border-top: 2px solid rgb(0, 0, 0);\" />"
   ]
  },
  {
   "cell_type": "markdown",
   "id": "336ca211",
   "metadata": {},
   "source": [
    "Deutsch's algorithm is a quantum algorithm developed by David Deutsch in 1985 that demonstrates the power of quantum computation. It is a simple algorithm that involves two qubits (quantum bits) and a quantum gate, and it is used to determine whether a Boolean function is constant or balanced. A constant function always returns the same output, while a balanced function returns both outputs with equal probability. Deutsch's algorithm can determine the type of function with just one evaluation, while a classical computer would require at least two evaluations. The algorithm is a fundamental building block of many other quantum algorithms and has important applications in various fields, including cryptography and simulation."
   ]
  },
  {
   "cell_type": "code",
   "execution_count": 28,
   "id": "1828a28a",
   "metadata": {},
   "outputs": [],
   "source": [
    "def f1(x):\n",
    "    if x == 0:\n",
    "        return 0\n",
    "    else:\n",
    "        return 0"
   ]
  },
  {
   "cell_type": "code",
   "execution_count": 29,
   "id": "6a4456ab",
   "metadata": {},
   "outputs": [],
   "source": [
    "def f2(x):\n",
    "    if x == 0:\n",
    "        return 0\n",
    "    else:\n",
    "        return 1"
   ]
  },
  {
   "cell_type": "code",
   "execution_count": 30,
   "id": "c060cc5e",
   "metadata": {},
   "outputs": [],
   "source": [
    "def f3(x):\n",
    "    if x == 0:\n",
    "        return 1\n",
    "    else:\n",
    "        return 0"
   ]
  },
  {
   "cell_type": "code",
   "execution_count": 31,
   "id": "4f5836b2",
   "metadata": {},
   "outputs": [],
   "source": [
    "def f4(x):\n",
    "    if x == 0:\n",
    "        return 1\n",
    "    else:\n",
    "        return 1"
   ]
  },
  {
   "cell_type": "code",
   "execution_count": 32,
   "id": "00c56ba9",
   "metadata": {},
   "outputs": [],
   "source": [
    "L = [f1, f2, f3, f4]"
   ]
  },
  {
   "cell_type": "code",
   "execution_count": 33,
   "id": "53b1826a",
   "metadata": {},
   "outputs": [],
   "source": [
    "f = random.choice(L)"
   ]
  },
  {
   "cell_type": "code",
   "execution_count": 34,
   "id": "3f738038",
   "metadata": {},
   "outputs": [
    {
     "data": {
      "text/plain": [
       "0"
      ]
     },
     "execution_count": 34,
     "metadata": {},
     "output_type": "execute_result"
    }
   ],
   "source": [
    "f(0)"
   ]
  },
  {
   "cell_type": "code",
   "execution_count": 35,
   "id": "f32b7c07",
   "metadata": {},
   "outputs": [
    {
     "data": {
      "text/plain": [
       "0"
      ]
     },
     "execution_count": 35,
     "metadata": {},
     "output_type": "execute_result"
    }
   ],
   "source": [
    "f(1)"
   ]
  },
  {
   "cell_type": "code",
   "execution_count": 36,
   "id": "973c9c8e",
   "metadata": {},
   "outputs": [
    {
     "data": {
      "text/plain": [
       "<function __main__.f1(x)>"
      ]
     },
     "execution_count": 36,
     "metadata": {},
     "output_type": "execute_result"
    }
   ],
   "source": [
    "f"
   ]
  },
  {
   "cell_type": "code",
   "execution_count": 37,
   "id": "97427d4c",
   "metadata": {},
   "outputs": [
    {
     "data": {
      "text/plain": [
       "[(0, 0, 0),\n",
       " (0, 0, 1),\n",
       " (0, 1, 0),\n",
       " (0, 1, 1),\n",
       " (1, 0, 0),\n",
       " (1, 0, 1),\n",
       " (1, 1, 0),\n",
       " (1, 1, 1)]"
      ]
     },
     "execution_count": 37,
     "metadata": {},
     "output_type": "execute_result"
    }
   ],
   "source": [
    "list(itertools.product([0,1], repeat=3))"
   ]
  },
  {
   "cell_type": "code",
   "execution_count": 38,
   "id": "75227af9",
   "metadata": {},
   "outputs": [
    {
     "data": {
      "text/plain": [
       "[(0, 0), (0, 1), (1, 0), (1, 1)]"
      ]
     },
     "execution_count": 38,
     "metadata": {},
     "output_type": "execute_result"
    }
   ],
   "source": [
    "list(itertools.product([0,1], repeat=2))"
   ]
  },
  {
   "cell_type": "code",
   "execution_count": 39,
   "id": "f7e3060b",
   "metadata": {},
   "outputs": [],
   "source": [
    "def random_f():\n",
    "    possible_Ls = list(itertools.product([0,1], repeat=2))\n",
    "    L = random.choice(possible_Ls)\n",
    "    def f(x):\n",
    "        return L[x]\n",
    "    return f"
   ]
  },
  {
   "cell_type": "code",
   "execution_count": 40,
   "id": "35346a1e",
   "metadata": {},
   "outputs": [],
   "source": [
    "f = random_f()"
   ]
  },
  {
   "cell_type": "code",
   "execution_count": 41,
   "id": "ae5689e5",
   "metadata": {},
   "outputs": [
    {
     "data": {
      "text/plain": [
       "0"
      ]
     },
     "execution_count": 41,
     "metadata": {},
     "output_type": "execute_result"
    }
   ],
   "source": [
    "f(0)"
   ]
  },
  {
   "cell_type": "code",
   "execution_count": 42,
   "id": "a8fda895",
   "metadata": {},
   "outputs": [
    {
     "data": {
      "text/plain": [
       "0"
      ]
     },
     "execution_count": 42,
     "metadata": {},
     "output_type": "execute_result"
    }
   ],
   "source": [
    "f(1)"
   ]
  },
  {
   "cell_type": "markdown",
   "id": "6eb7b2da",
   "metadata": {},
   "source": [
    "## Oracles\n",
    "<hr style=\"border-top: 2px solid rgb(0, 0, 0);\" />"
   ]
  },
  {
   "cell_type": "markdown",
   "id": "f5395f94",
   "metadata": {},
   "source": [
    "An oracle is a subroutine that can be called to perform a specific task, such as solving a problem or providing access to some information. Oracles are often used in quantum algorithms as a way to perform calculations or access data that would be difficult or impossible to obtain classically.\n",
    "\n",
    "Oracles can be implemented in various ways, such as by using a quantum gate to perform a specific operation or by using a quantum subroutine to access a database or other source of information. Oracles can also be used to implement quantum error correction codes, which can help protect quantum information from noise and other sources of error.\n",
    "\n",
    "One famous example of an oracle is the Deutsch-Jozsa algorithm, which uses an oracle to determine whether a Boolean function is constant or balanced. Another example is Grover's algorithm, which uses an oracle to search an unsorted database quadratically faster than classical algorithms. Oracles are an important part of quantum computing and play a key role in many quantum algorithms.\n",
    "\n",
    "\n",
    "\n"
   ]
  },
  {
   "cell_type": "code",
   "execution_count": 43,
   "id": "afb036a9",
   "metadata": {},
   "outputs": [
    {
     "data": {
      "image/png": "[encoded data removed]",
      "text/plain": [
       "<Figure size 267.052x204.68 with 1 Axes>"
      ]
     },
     "execution_count": 43,
     "metadata": {},
     "output_type": "execute_result"
    }
   ],
   "source": [
    "top = qiskit.QuantumCircuit(2, 1)\n",
    "\n",
    "top.initialize((1, 0), 0)\n",
    "\n",
    "top.initialize((0, 1), 1)\n",
    "\n",
    "top.h((0, 1))\n",
    "\n",
    "top.barrier()\n",
    "\n",
    "top.draw(output='mpl')"
   ]
  },
  {
   "cell_type": "code",
   "execution_count": 44,
   "id": "96bc730d",
   "metadata": {},
   "outputs": [
    {
     "data": {
      "image/png": "[encoded data removed]",
      "text/plain": [
       "<Figure size 267.052x204.68 with 1 Axes>"
      ]
     },
     "execution_count": 44,
     "metadata": {},
     "output_type": "execute_result"
    }
   ],
   "source": [
    "end = qiskit.QuantumCircuit(2, 1)\n",
    "\n",
    "end.barrier()\n",
    "\n",
    "end.h(0)\n",
    "\n",
    "end.measure(0, 0)\n",
    "\n",
    "end.draw(output='mpl')"
   ]
  },
  {
   "cell_type": "markdown",
   "id": "229d203d",
   "metadata": {},
   "source": [
    "### Constant 0 Function\n",
    "\n",
    "$f_1(0) = 0$\n",
    "\n",
    "$f_1(1) = 0$\n",
    "\n",
    "$\n",
    "\\begin{array}{cccc}\n",
    "x & y & f(x) & y \\bigoplus f(x) \\\\\n",
    "\\hline\n",
    "0 & 0 & 0 & 0 \\\\\n",
    "0 & 1 & 0 & 1 \\\\\n",
    "1 & 0 & 0 & 0 \\\\\n",
    "1 & 1 & 0 & 1 \\\\\n",
    "\\end{array}\n",
    "$\n",
    "\n",
    "$\n",
    "\\begin{array}{ccl}\n",
    "\\ket{xy} & \\rightarrow & \\ket{x(y \\bigoplus f(x))} \\\\\n",
    "\\ket{00} & \\rightarrow & \\ket{00} \\\\\n",
    "\\ket{01} & \\rightarrow & \\ket{01} \\\\\n",
    "\\ket{10} & \\rightarrow & \\ket{10} \\\\\n",
    "\\ket{11} & \\rightarrow & \\ket{11} \\\\\n",
    "\\end{array}\n",
    "$"
   ]
  },
  {
   "cell_type": "code",
   "execution_count": 45,
   "id": "0215f654",
   "metadata": {},
   "outputs": [
    {
     "data": {
      "image/png": "[encoded data removed]",
      "text/plain": [
       "<Figure size 146.652x204.68 with 1 Axes>"
      ]
     },
     "execution_count": 45,
     "metadata": {},
     "output_type": "execute_result"
    }
   ],
   "source": [
    "f1 = qiskit.QuantumCircuit(2, 1)\n",
    "\n",
    "f1.i((0, 1))\n",
    "\n",
    "f1.draw(output='mpl')"
   ]
  },
  {
   "cell_type": "code",
   "execution_count": 46,
   "id": "f30ac568",
   "metadata": {},
   "outputs": [
    {
     "name": "stderr",
     "output_type": "stream",
     "text": [
      "C:\\Users\\KATELY~1\\AppData\\Local\\Temp/ipykernel_19896/2062471468.py:1: DeprecationWarning: The QuantumCircuit.__add__() method is being deprecated.Use the compose() method which is more flexible w.r.t circuit register compatibility.\n",
      "  circuit = top + f1 + end\n"
     ]
    },
    {
     "data": {
      "image/png": "[encoded data removed]",
      "text/plain": [
       "<Figure size 507.852x204.68 with 1 Axes>"
      ]
     },
     "execution_count": 46,
     "metadata": {},
     "output_type": "execute_result"
    }
   ],
   "source": [
    "circuit = top + f1 + end\n",
    "\n",
    "circuit.draw(output='mpl')"
   ]
  },
  {
   "cell_type": "code",
   "execution_count": 47,
   "id": "77c5db8b",
   "metadata": {},
   "outputs": [
    {
     "name": "stdout",
     "output_type": "stream",
     "text": [
      "{'0': 1024}\n"
     ]
    }
   ],
   "source": [
    "sim = qiskit.Aer.get_backend('aer_simulator')\n",
    "\n",
    "result = sim.run(circuit).result().get_counts()\n",
    "\n",
    "print(result)"
   ]
  },
  {
   "cell_type": "markdown",
   "id": "18b23de7",
   "metadata": {},
   "source": [
    "### Constant 1 Function\n",
    "\n",
    "$f_1(0) = 1$\n",
    "\n",
    "$f_1(1) = 1$\n",
    "\n",
    "$\n",
    "\\begin{array}{cccc}\n",
    "x & y & f(x) & y \\bigoplus f(x) \\\\\n",
    "\\hline\n",
    "0 & 0 & 1 & 1 \\\\\n",
    "0 & 1 & 1 & 0 \\\\\n",
    "1 & 0 & 1 & 1 \\\\\n",
    "1 & 1 & 1 & 0 \\\\\n",
    "\\end{array}\n",
    "$\n",
    "\n",
    "$\n",
    "\\begin{array}{ccl}\n",
    "\\ket{xy} & \\rightarrow & \\ket{x(y \\bigoplus f(x))} \\\\\n",
    "\\ket{00} & \\rightarrow & \\ket{01} \\\\\n",
    "\\ket{01} & \\rightarrow & \\ket{00} \\\\\n",
    "\\ket{10} & \\rightarrow & \\ket{11} \\\\\n",
    "\\ket{11} & \\rightarrow & \\ket{10} \\\\\n",
    "\\end{array}\n",
    "$\n",
    "\n",
    "$\n",
    "\\begin{bmatrix}\n",
    "0 & 1 & 0 & 0 \\\\\n",
    "1 & 0 & 0 & 0 \\\\\n",
    "0 & 0 & 0 & 1 \\\\\n",
    "0 & 0 & 1 & 0\n",
    "\\end{bmatrix}\n",
    "\\begin{bmatrix}\n",
    "a \\\\\n",
    "b \\\\\n",
    "c \\\\\n",
    "d\n",
    "\\end{bmatrix}=\n",
    "\\begin{bmatrix}\n",
    "b \\\\\n",
    "a \\\\\n",
    "d \\\\\n",
    "c\n",
    "\\end{bmatrix}\n",
    "$\n",
    "\n",
    "$\n",
    "\\begin{bmatrix}\n",
    "0 & 1 & 0 & 0 \\\\\n",
    "1 & 0 & 0 & 0 \\\\\n",
    "0 & 0 & 0 & 1 \\\\\n",
    "0 & 0 & 1 & 0\n",
    "\\end{bmatrix} = \n",
    "\\begin{bmatrix}\n",
    "1 & 0 \\\\\n",
    "0 & 1\n",
    "\\end{bmatrix}\\bigotimes\n",
    "\\begin{bmatrix}\n",
    "0 & 1 \\\\\n",
    "1 & 0\n",
    "\\end{bmatrix} = I \\bigotimes X\n",
    "$"
   ]
  },
  {
   "cell_type": "code",
   "execution_count": 48,
   "id": "838d7c46",
   "metadata": {},
   "outputs": [
    {
     "data": {
      "image/png": "[encoded data removed]",
      "text/plain": [
       "<Figure size 146.652x204.68 with 1 Axes>"
      ]
     },
     "execution_count": 48,
     "metadata": {},
     "output_type": "execute_result"
    }
   ],
   "source": [
    "f4 = qiskit.QuantumCircuit(2, 1)\n",
    "\n",
    "f4.i(0)\n",
    "\n",
    "f4.x(1)\n",
    "\n",
    "f4.draw(output='mpl')"
   ]
  },
  {
   "cell_type": "code",
   "execution_count": 49,
   "id": "8a2f6729",
   "metadata": {},
   "outputs": [
    {
     "name": "stderr",
     "output_type": "stream",
     "text": [
      "C:\\Users\\KATELY~1\\AppData\\Local\\Temp/ipykernel_19896/2403865204.py:1: DeprecationWarning: The QuantumCircuit.__add__() method is being deprecated.Use the compose() method which is more flexible w.r.t circuit register compatibility.\n",
      "  circuit = top + f4 + end\n"
     ]
    },
    {
     "data": {
      "image/png": "[encoded data removed]",
      "text/plain": [
       "<Figure size 507.852x204.68 with 1 Axes>"
      ]
     },
     "execution_count": 49,
     "metadata": {},
     "output_type": "execute_result"
    }
   ],
   "source": [
    "circuit = top + f4 + end\n",
    "\n",
    "circuit.draw(output='mpl')"
   ]
  },
  {
   "cell_type": "code",
   "execution_count": 50,
   "id": "6b2a969f",
   "metadata": {},
   "outputs": [
    {
     "name": "stdout",
     "output_type": "stream",
     "text": [
      "{'0': 1024}\n"
     ]
    }
   ],
   "source": [
    "sim = qiskit.Aer.get_backend('aer_simulator')\n",
    "\n",
    "result = sim.run(circuit).result().get_counts()\n",
    "\n",
    "print(result)"
   ]
  },
  {
   "cell_type": "markdown",
   "id": "48639d7c",
   "metadata": {},
   "source": [
    "### Balanced Identity Function\n",
    "\n",
    "$f_2(0) = 0$\n",
    "\n",
    "$f_2(1) = 1$\n",
    "\n",
    "$\n",
    "\\begin{array}{cccc}\n",
    "x & y & f(x) & y \\bigoplus f(x) \\\\\n",
    "\\hline\n",
    "0 & 0 & 0 & 0 \\\\\n",
    "0 & 1 & 0 & 1 \\\\\n",
    "1 & 0 & 1 & 1 \\\\\n",
    "1 & 1 & 1 & 0 \\\\\n",
    "\\end{array}\n",
    "$\n",
    "\n",
    "$\n",
    "\\begin{array}{ccl}\n",
    "\\ket{xy} & \\rightarrow & \\ket{x(y \\bigoplus f(x))} \\\\\n",
    "\\ket{00} & \\rightarrow & \\ket{00} \\\\\n",
    "\\ket{01} & \\rightarrow & \\ket{01} \\\\\n",
    "\\ket{10} & \\rightarrow & \\ket{11} \\\\\n",
    "\\ket{11} & \\rightarrow & \\ket{10} \\\\\n",
    "\\end{array}\n",
    "$\n",
    "\n",
    "$\n",
    "\\begin{bmatrix}\n",
    "1 & 0 & 0 & 0 \\\\\n",
    "0 & 1 & 0 & 0 \\\\\n",
    "0 & 0 & 0 & 1 \\\\\n",
    "0 & 0 & 1 & 0\n",
    "\\end{bmatrix}\n",
    "\\begin{bmatrix}\n",
    "a \\\\\n",
    "b \\\\\n",
    "c \\\\\n",
    "d\n",
    "\\end{bmatrix}=\n",
    "\\begin{bmatrix}\n",
    "a \\\\\n",
    "b \\\\\n",
    "d \\\\\n",
    "c\n",
    "\\end{bmatrix}\n",
    "$\n",
    "\n",
    "$\n",
    "\\begin{bmatrix}\n",
    "1 & 0 & 0 & 0 \\\\\n",
    "0 & 1 & 0 & 0 \\\\\n",
    "0 & 0 & 0 & 1 \\\\\n",
    "0 & 0 & 1 & 0\n",
    "\\end{bmatrix} \\stackrel{?}{=}\n",
    "\\begin{bmatrix}\n",
    "a & b \\\\\n",
    "c & d\n",
    "\\end{bmatrix}\\bigotimes\n",
    "\\begin{bmatrix}\n",
    "e & f \\\\\n",
    "g & h\n",
    "\\end{bmatrix}\n",
    "$\n",
    "\n",
    "$ae = 1 \\Rightarrow a \\neq 0$\n",
    "\n",
    "$dg = 1 \\Rightarrow g \\neq 0$\n",
    "\n",
    "$ag = 0 \\Rightarrow a = 0 \\ \\textrm{or} \\ g = 0$\n"
   ]
  },
  {
   "cell_type": "code",
   "execution_count": 51,
   "id": "b78a985a",
   "metadata": {},
   "outputs": [
    {
     "data": {
      "image/png": "[encoded data removed]",
      "text/plain": [
       "<Figure size 146.652x204.68 with 1 Axes>"
      ]
     },
     "execution_count": 51,
     "metadata": {},
     "output_type": "execute_result"
    }
   ],
   "source": [
    "f2 = qiskit.QuantumCircuit(2, 1)\n",
    "\n",
    "f2.cnot(0, 1)\n",
    "\n",
    "f2.draw(output='mpl')"
   ]
  },
  {
   "cell_type": "code",
   "execution_count": 52,
   "id": "c667ae03",
   "metadata": {},
   "outputs": [
    {
     "name": "stderr",
     "output_type": "stream",
     "text": [
      "C:\\Users\\KATELY~1\\AppData\\Local\\Temp/ipykernel_19896/3939406040.py:1: DeprecationWarning: The QuantumCircuit.__add__() method is being deprecated.Use the compose() method which is more flexible w.r.t circuit register compatibility.\n",
      "  circuit = top + f2 + end\n"
     ]
    },
    {
     "data": {
      "image/png": "[encoded data removed]",
      "text/plain": [
       "<Figure size 507.852x204.68 with 1 Axes>"
      ]
     },
     "execution_count": 52,
     "metadata": {},
     "output_type": "execute_result"
    }
   ],
   "source": [
    "circuit = top + f2 + end\n",
    "\n",
    "circuit.draw(output='mpl')"
   ]
  },
  {
   "cell_type": "code",
   "execution_count": 53,
   "id": "8b5a3330",
   "metadata": {},
   "outputs": [
    {
     "name": "stdout",
     "output_type": "stream",
     "text": [
      "{'1': 1024}\n"
     ]
    }
   ],
   "source": [
    "sim = qiskit.Aer.get_backend('aer_simulator')\n",
    "\n",
    "result = sim.run(circuit).result().get_counts()\n",
    "\n",
    "print(result)"
   ]
  },
  {
   "cell_type": "markdown",
   "id": "5839447a",
   "metadata": {},
   "source": [
    "### Balanced Not Function\n",
    "\n",
    "$f_3(0) = 1$\n",
    "\n",
    "$f_3(1) = 0$\n",
    "\n",
    "$\n",
    "\\begin{array}{cccc}\n",
    "x & y & f(x) & y \\bigoplus f(x) \\\\\n",
    "\\hline\n",
    "0 & 0 & 1 & 1 \\\\\n",
    "0 & 1 & 1 & 0 \\\\\n",
    "1 & 0 & 0 & 0 \\\\\n",
    "1 & 1 & 0 & 1 \\\\\n",
    "\\end{array}\n",
    "$\n",
    "\n",
    "$\n",
    "\\begin{array}{ccl}\n",
    "\\ket{xy} & \\rightarrow & \\ket{x(y \\bigoplus f(x))} \\\\\n",
    "\\ket{00} & \\rightarrow & \\ket{01} \\\\\n",
    "\\ket{01} & \\rightarrow & \\ket{00} \\\\\n",
    "\\ket{10} & \\rightarrow & \\ket{10} \\\\\n",
    "\\ket{11} & \\rightarrow & \\ket{11} \\\\\n",
    "\\end{array}\n",
    "$\n",
    "\n",
    "$\n",
    "\\begin{bmatrix}\n",
    "0 & 1 & 0 & 0 \\\\\n",
    "1 & 0 & 0 & 0 \\\\\n",
    "0 & 0 & 1 & 0 \\\\\n",
    "0 & 0 & 0 & 1\n",
    "\\end{bmatrix}\n",
    "\\begin{bmatrix}\n",
    "a \\\\\n",
    "b \\\\\n",
    "c \\\\\n",
    "d\n",
    "\\end{bmatrix}=\n",
    "\\begin{bmatrix}\n",
    "b \\\\\n",
    "a \\\\\n",
    "c \\\\\n",
    "d\n",
    "\\end{bmatrix}\n",
    "$\n",
    "\n",
    "$\n",
    "\\begin{bmatrix}\n",
    "0 & 1 & 0 & 0 \\\\\n",
    "1 & 0 & 0 & 0 \\\\\n",
    "0 & 0 & 1 & 0 \\\\\n",
    "0 & 0 & 0 & 1\n",
    "\\end{bmatrix} \\stackrel{?}{=}\n",
    "\\begin{bmatrix}\n",
    "a & b \\\\\n",
    "c & d\n",
    "\\end{bmatrix}\\bigotimes\n",
    "\\begin{bmatrix}\n",
    "e & f \\\\\n",
    "g & h\n",
    "\\end{bmatrix}\n",
    "$\n",
    "\n",
    "$ag = 1 \\Rightarrow a \\neq 0$\n",
    "\n",
    "$de = 1 \\Rightarrow e \\neq 0$\n",
    "\n",
    "$ae = 0 \\Rightarrow a = 0 \\ \\textrm{or} \\ e = 0$\n",
    "\n",
    "\n",
    "$\n",
    "\\begin{bmatrix}\n",
    "0 & 1 & 0 & 0 \\\\\n",
    "1 & 0 & 0 & 0 \\\\\n",
    "0 & 0 & 1 & 0 \\\\\n",
    "0 & 0 & 0 & 1\n",
    "\\end{bmatrix} =\n",
    "\\begin{bmatrix}\n",
    "0 & 1 & 0 & 0 \\\\\n",
    "1 & 0 & 0 & 0 \\\\\n",
    "0 & 0 & 0 & 1 \\\\\n",
    "0 & 0 & 1 & 0\n",
    "\\end{bmatrix}\n",
    "\\begin{bmatrix}\n",
    "1 & 0 & 0 & 0 \\\\\n",
    "0 & 1 & 0 & 0 \\\\\n",
    "0 & 0 & 0 & 1 \\\\\n",
    "0 & 0 & 1 & 0\n",
    "\\end{bmatrix}=\n",
    "(I \\bigotimes X)CNOT\n",
    "$"
   ]
  },
  {
   "cell_type": "code",
   "execution_count": 54,
   "id": "7f4c9598",
   "metadata": {},
   "outputs": [
    {
     "data": {
      "image/png": "[encoded data removed]",
      "text/plain": [
       "<Figure size 206.852x204.68 with 1 Axes>"
      ]
     },
     "execution_count": 54,
     "metadata": {},
     "output_type": "execute_result"
    }
   ],
   "source": [
    "f3 = qiskit.QuantumCircuit(2, 1)\n",
    "\n",
    "f3.i(0)\n",
    "\n",
    "f3.x(1)\n",
    "\n",
    "f3.cnot(0, 1)\n",
    "\n",
    "f3.draw(output='mpl')"
   ]
  },
  {
   "cell_type": "code",
   "execution_count": 55,
   "id": "c07be312",
   "metadata": {},
   "outputs": [
    {
     "name": "stderr",
     "output_type": "stream",
     "text": [
      "C:\\Users\\KATELY~1\\AppData\\Local\\Temp/ipykernel_19896/4073677338.py:1: DeprecationWarning: The QuantumCircuit.__add__() method is being deprecated.Use the compose() method which is more flexible w.r.t circuit register compatibility.\n",
      "  circuit = top + f3 + end\n"
     ]
    },
    {
     "data": {
      "image/png": "[encoded data removed]",
      "text/plain": [
       "<Figure size 568.052x204.68 with 1 Axes>"
      ]
     },
     "execution_count": 55,
     "metadata": {},
     "output_type": "execute_result"
    }
   ],
   "source": [
    "circuit = top + f3 + end\n",
    "\n",
    "circuit.draw(output='mpl')"
   ]
  },
  {
   "cell_type": "code",
   "execution_count": 56,
   "id": "2e5d381a",
   "metadata": {},
   "outputs": [
    {
     "name": "stdout",
     "output_type": "stream",
     "text": [
      "{'1': 1024}\n"
     ]
    }
   ],
   "source": [
    "sim = qiskit.Aer.get_backend('aer_simulator')\n",
    "\n",
    "result = sim.run(circuit).result().get_counts()\n",
    "\n",
    "print(result)"
   ]
  },
  {
   "cell_type": "markdown",
   "id": "798c172d",
   "metadata": {},
   "source": [
    "## Random Oracles\n",
    "<hr style=\"border-top: 2px solid rgb(0, 0, 0);\" />"
   ]
  },
  {
   "cell_type": "markdown",
   "id": "798a3438",
   "metadata": {},
   "source": [
    "A random oracle is a theoretical construct used in the study of computational complexity and cryptography. It is a mathematical model of a subroutine that can be called to perform a specific task, such as solving a problem or providing access to some information. The key property of a random oracle is that it is assumed to behave like a truly random function, meaning that it produces a uniform and independent output for each input."
   ]
  },
  {
   "cell_type": "code",
   "execution_count": 57,
   "id": "76095d81",
   "metadata": {},
   "outputs": [],
   "source": [
    "oracles = [f1, f2, f3, f4]\n",
    "\n",
    "oracle = random.choice(oracles)"
   ]
  },
  {
   "cell_type": "code",
   "execution_count": 58,
   "id": "4bde8322",
   "metadata": {},
   "outputs": [
    {
     "name": "stderr",
     "output_type": "stream",
     "text": [
      "C:\\Users\\KATELY~1\\AppData\\Local\\Temp/ipykernel_19896/1246211029.py:1: DeprecationWarning: The QuantumCircuit.__add__() method is being deprecated.Use the compose() method which is more flexible w.r.t circuit register compatibility.\n",
      "  circuit = top + oracle + end\n"
     ]
    },
    {
     "data": {
      "image/png": "[encoded data removed]",
      "text/plain": [
       "<Figure size 507.852x204.68 with 1 Axes>"
      ]
     },
     "execution_count": 58,
     "metadata": {},
     "output_type": "execute_result"
    }
   ],
   "source": [
    "circuit = top + oracle + end\n",
    "\n",
    "circuit.draw(output='mpl')"
   ]
  },
  {
   "cell_type": "code",
   "execution_count": 59,
   "id": "cda54d12",
   "metadata": {},
   "outputs": [
    {
     "name": "stdout",
     "output_type": "stream",
     "text": [
      "{'0': 1024}\n"
     ]
    }
   ],
   "source": [
    "sim = qiskit.Aer.get_backend('aer_simulator')\n",
    "\n",
    "result = sim.run(circuit).result().get_counts()\n",
    "\n",
    "print(result)"
   ]
  },
  {
   "cell_type": "code",
   "execution_count": 60,
   "id": "9386b7be",
   "metadata": {},
   "outputs": [
    {
     "name": "stdout",
     "output_type": "stream",
     "text": [
      "Constant\n"
     ]
    }
   ],
   "source": [
    "if '1' in result:\n",
    "    print('Balanced')\n",
    "else:\n",
    "    print('Constant')"
   ]
  },
  {
   "cell_type": "markdown",
   "id": "f9f141ed",
   "metadata": {},
   "source": [
    "## References\n",
    "<hr style=\"border-top: 2px solid rgb(0, 0, 0);\" />"
   ]
  },
  {
   "cell_type": "markdown",
   "id": "fbf30959",
   "metadata": {},
   "source": [
    "[0] https://github.com/ianmcloughlin/2223-S1-emerging-technologies/blob/main/notebooks/05-quantum-computing.ipynb<br>\n",
    "[1] https://qiskit.org/textbook/preface.html\n",
    "[2] https://mathworld.wolfram.com/FourierTransform.html<br>\n",
    "[3] https://en.wikipedia.org/wiki/Quantum_logic_gate<br>"
   ]
  },
  {
   "cell_type": "markdown",
   "id": "96df4c95",
   "metadata": {},
   "source": [
    "<hr style=\"border-top: 3px solid rgb(0, 0, 0);\" />"
   ]
  },
  {
   "cell_type": "markdown",
   "id": "e6bcd079",
   "metadata": {},
   "source": [
    "# End"
   ]
  }
 ],
 "metadata": {
  "kernelspec": {
   "display_name": "Python 3 (ipykernel)",
   "language": "python",
   "name": "python3"
  },
  "language_info": {
   "codemirror_mode": {
    "name": "ipython",
    "version": 3
   },
   "file_extension": ".py",
   "mimetype": "text/x-python",
   "name": "python",
   "nbconvert_exporter": "python",
   "pygments_lexer": "ipython3",
   "version": "3.9.7"
  }
 },
 "nbformat": 4,
 "nbformat_minor": 5
}
